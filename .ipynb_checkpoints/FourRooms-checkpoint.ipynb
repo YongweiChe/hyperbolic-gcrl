{
 "cells": [
  {
   "cell_type": "code",
   "execution_count": 1,
   "id": "dc0a9061",
   "metadata": {},
   "outputs": [],
   "source": [
    "import numpy as np\n",
    "import matplotlib.pyplot as plt\n",
    "\n",
    "def create_pattern(patterns, gap):\n",
    "    pattern = patterns[0]\n",
    "    new_pattern = np.zeros((2 * pattern.shape[0] + 7 * gap, 2 * pattern.shape[1] + 7 * gap))\n",
    "    # print(new_pattern.shape)\n",
    "    # place walls\n",
    "    new_pattern[:gap,:] = 1\n",
    "    new_pattern[:,:gap] = 1\n",
    "    new_pattern[-gap:,:] = 1\n",
    "    new_pattern[:,-gap:] = 1\n",
    "\n",
    "    # place interior walls\n",
    "    new_pattern[3 * gap + pattern.shape[0]:4 * gap + pattern.shape[0],:] = 1\n",
    "    new_pattern[:,3 * gap + pattern.shape[1]:4 * gap + pattern.shape[1]] = 1\n",
    "\n",
    "    # place smaller pattern in each new room\n",
    "    new_pattern[(2 * gap):(2 * gap + pattern.shape[0]), (2 * gap):(2 * gap + pattern.shape[1])] = patterns[0]\n",
    "    new_pattern[(5 * gap + pattern.shape[0]):(5 * gap + 2 * pattern.shape[0]), (2 * gap):(2 * gap + pattern.shape[1])] = patterns[1]\n",
    "\n",
    "    new_pattern[(5 * gap + pattern.shape[0]):(5 * gap + 2 * pattern.shape[0]), (5 * gap + pattern.shape[1]):(5 * gap + 2 * pattern.shape[1])] = patterns[2]\n",
    "    new_pattern[(2 * gap):(2 * gap + pattern.shape[0]), (5 * gap + pattern.shape[1]):(5 * gap + 2 * pattern.shape[1])] = patterns[3]\n",
    "\n",
    "    # place a gap in one of the corners\n",
    "    dist = [(new_pattern.shape[0] - 2 * gap) * np.random.randint(0, 2), (new_pattern.shape[1] - 2 * gap) * np.random.randint(0, 2)]\n",
    "    new_pattern[dist[0]:dist[0] + 2 * gap, dist[1]: dist[1] + 2 * gap] = 0\n",
    "    \n",
    "    # place a hole in each of the walls\n",
    "    h1 = np.random.randint(gap, 3 * gap + pattern.shape[0])\n",
    "    h2 = np.random.randint(4 * gap + pattern.shape[0], new_pattern.shape[0] - 2 * gap)\n",
    "    h3 = np.random.randint(gap, 3 * gap + pattern.shape[1])\n",
    "    h4 = np.random.randint(4 * gap + pattern.shape[1], new_pattern.shape[1] - 2 * gap)\n",
    "\n",
    "    new_pattern[h1:h1 + gap, 3 * gap + pattern.shape[1]:4 * gap + pattern.shape[1]] = 0\n",
    "    new_pattern[h2:h2 + gap, 3 * gap + pattern.shape[1]:4 * gap + pattern.shape[1]] = 0\n",
    "    new_pattern[3 * gap + pattern.shape[0]:4 * gap + pattern.shape[0], h3:h3 + gap] = 0\n",
    "    new_pattern[3 * gap + pattern.shape[0]:4 * gap + pattern.shape[0], h4:h4 + gap] = 0\n",
    "    \n",
    "    plt.imshow(new_pattern)\n",
    "    \n",
    "    return new_pattern"
   ]
  },
  {
   "cell_type": "code",
   "execution_count": 2,
   "id": "581419e7",
   "metadata": {},
   "outputs": [
    {
     "data": {
      "image/png": "[encoded data removed]",
      "text/plain": [
       "<Figure size 640x480 with 1 Axes>"
      ]
     },
     "metadata": {},
     "output_type": "display_data"
    }
   ],
   "source": [
    "def create_pyramid(pattern, depth=3):\n",
    "    if depth == 0:\n",
    "        return np.stack([pattern, pattern, pattern, pattern])\n",
    "    \n",
    "    patterns = []\n",
    "    gap = depth\n",
    "    \n",
    "    for i in range(4):\n",
    "        patterns.append(create_pattern(create_pyramid(pattern, depth - 1), gap))\n",
    "    \n",
    "    return np.stack(patterns)\n",
    "\n",
    "gap = 1\n",
    "pattern = np.array([\n",
    "    [0, 0],\n",
    "    [0, 0]\n",
    "])\n",
    "\n",
    "maze = create_pyramid(pattern, 3)"
   ]
  },
  {
   "cell_type": "code",
   "execution_count": 164,
   "id": "b4e07501",
   "metadata": {},
   "outputs": [
    {
     "data": {
      "text/plain": [
       "(4, 11, 11)"
      ]
     },
     "execution_count": 164,
     "metadata": {},
     "output_type": "execute_result"
    }
   ],
   "source": [
    "maze.shape"
   ]
  },
  {
   "cell_type": "code",
   "execution_count": null,
   "id": "f5c07e03",
   "metadata": {},
   "outputs": [],
   "source": []
  }
 ],
 "metadata": {
  "kernelspec": {
   "display_name": "contrastive2 [~/.conda/envs/contrastive2/]",
   "language": "python",
   "name": "conda_contrastive2"
  },
  "language_info": {
   "codemirror_mode": {
    "name": "ipython",
    "version": 3
   },
   "file_extension": ".py",
   "mimetype": "text/x-python",
   "name": "python",
   "nbconvert_exporter": "python",
   "pygments_lexer": "ipython3",
   "version": "3.9.18"
  }
 },
 "nbformat": 4,
 "nbformat_minor": 5
}
