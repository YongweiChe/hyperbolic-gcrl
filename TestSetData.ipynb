{
 "cells": [
  {
   "cell_type": "code",
   "execution_count": 5,
   "id": "b756b29a",
   "metadata": {},
   "outputs": [],
   "source": [
    "import numpy as np\n",
    "import matplotlib.pyplot as plt\n",
    "import torch\n",
    "import torch.nn as nn\n",
    "import torch.nn.functional as F\n",
    "import torch.optim as optim\n",
    "from torch.utils.data import DataLoader, Dataset\n",
    "import hypll\n",
    "from hypll.manifolds.poincare_ball import Curvature, PoincareBall\n",
    "from hypll.optim import RiemannianAdam\n",
    "import hypll.nn as hnn\n",
    "from hypll.tensors import TangentTensor\n",
    "from matplotlib.animation import FuncAnimation\n",
    "import argparse\n",
    "import yaml\n",
    "import math\n",
    "from pyramid import create_pyramid\n",
    "from continuous_maze import bfs, get_trajectories, gen_traj, plot_traj, ContinuousGridEnvironment, TrajectoryDataset, LabelDataset\n",
    "from hyperbolic_networks import HyperbolicMLP, hyperbolic_infoNCE_loss, manifold_map\n",
    "from networks import StateActionEncoder, StateEncoder, infoNCE_loss\n",
    "import os\n",
    "import time\n",
    "from train_streets import get_maze\n",
    "\n",
    "import numpy as np"
   ]
  },
  {
   "cell_type": "code",
   "execution_count": 84,
   "id": "c8bdeb2b",
   "metadata": {},
   "outputs": [],
   "source": [
    "def contrastive_loss(feature1_embed, feature2_embed, temperature):\n",
    "    logits = torch.matmul(feature1_embed, feature2_embed.t()) / temperature\n",
    "    labels = torch.arange(feature1_embed.shape[0], device=feature1_embed.device)\n",
    "    loss_1 = F.cross_entropy(logits, labels)\n",
    "    loss_2 = F.cross_entropy(logits.t(), labels)\n",
    "    return (loss_1 + loss_2) / 2\n",
    "\n",
    "class PointCloudEncoder(nn.Module):\n",
    "    def __init__(self, input_dim=8, output_dim=256):\n",
    "        super(PointCloudEncoder, self).__init__()\n",
    "        \n",
    "        self.conv1 = nn.Conv1d(input_dim, 64, 1)\n",
    "        self.conv2 = nn.Conv1d(64, 128, 1)\n",
    "        self.conv3 = nn.Conv1d(128, 256, 1)\n",
    "        \n",
    "        self.bn1 = nn.BatchNorm1d(64)\n",
    "        self.bn2 = nn.BatchNorm1d(128)\n",
    "        self.bn3 = nn.BatchNorm1d(256)\n",
    "        \n",
    "        self.linear1 = nn.Linear(256, 256)\n",
    "        self.bn4 = nn.BatchNorm1d(256)\n",
    "        self.linear2 = nn.Linear(256, output_dim)\n",
    "\n",
    "    def forward(self, x):\n",
    "        # x shape: (batch_size, n, 8)\n",
    "        x = x.transpose(2, 1)  # (batch_size, 8, n)\n",
    "        \n",
    "        # Point-wise MLPs\n",
    "        x = F.relu(self.bn1(self.conv1(x)))\n",
    "        x = F.relu(self.bn2(self.conv2(x)))\n",
    "        x = self.bn3(self.conv3(x))\n",
    "        \n",
    "        # Max pooling\n",
    "        x = torch.max(x, 2, keepdim=True)[0]\n",
    "        x = x.view(-1, 256)\n",
    "        \n",
    "        # Fully connected layers\n",
    "        x = F.relu(self.bn4(self.linear1(x)))\n",
    "        x = self.linear2(x)\n",
    "        \n",
    "        return x\n",
    "\n",
    "class SetDataset(Dataset):\n",
    "    def __init__(self, maze, num_trajectories, embedding_dim=2, num_negatives=10, gamma=0.1, order_fn=None, num_splits=4):\n",
    "        super().__init__()\n",
    "        self.num_trajectories = num_trajectories\n",
    "        self.num_negatives = num_negatives\n",
    "        self.num_splits = num_splits\n",
    "        self.maze = maze\n",
    "        self.gamma = gamma\n",
    "        print(f'gamma: {self.gamma}')\n",
    "\n",
    "        self.trajectories = get_trajectories(maze, num_trajectories, order_fn=order_fn)\n",
    "\n",
    "    def __len__(self):\n",
    "        return len(self.trajectories)\n",
    "\n",
    "    def __getitem__(self, idx):\n",
    "        # Anchor: the current data point\n",
    "        \n",
    "        traj = self.trajectories[idx]\n",
    "        split_traj = np.split(traj, np.random.randint(0, len(arr), size=self.num_splits))\n",
    "        split_traj = list(filter(lambda x: x.shape[0] != 0,split_traj))\n",
    "        # print(split_traj)\n",
    "        \n",
    "        i, j = np.random.randint(0, len(split_traj), 2)\n",
    "        # print(i, j)\n",
    "        set1 = [x[0] for x in split_traj[i]]\n",
    "        set2 = [x[0] for x in split_traj[j]]\n",
    "        \n",
    "        return set1, set2"
   ]
  },
  {
   "cell_type": "code",
   "execution_count": 124,
   "id": "4c4c2ca0",
   "metadata": {},
   "outputs": [
    {
     "name": "stdout",
     "output_type": "stream",
     "text": [
      "torch.Size([32, 12, 2])\n",
      "torch.Size([32, 256])\n"
     ]
    }
   ],
   "source": [
    "class PointCloudEncoder(nn.Module):\n",
    "    def __init__(self, input_dim=8, output_dim=256):\n",
    "        super(PointCloudEncoder, self).__init__()\n",
    "        \n",
    "        self.conv1 = nn.Conv1d(input_dim, 64, 1)\n",
    "        self.conv2 = nn.Conv1d(64, 128, 1)\n",
    "        self.conv3 = nn.Conv1d(128, 256, 1)\n",
    "        \n",
    "        self.bn1 = nn.BatchNorm1d(64)\n",
    "        self.bn2 = nn.BatchNorm1d(128)\n",
    "        self.bn3 = nn.BatchNorm1d(256)\n",
    "        \n",
    "        self.linear1 = nn.Linear(256, 256)\n",
    "        self.bn4 = nn.BatchNorm1d(256)\n",
    "        self.linear2 = nn.Linear(256, output_dim)\n",
    "\n",
    "    def forward(self, x):\n",
    "        # x shape: (batch_size, n, 8)\n",
    "        x = x.transpose(2, 1)  # (batch_size, 8, n)\n",
    "        \n",
    "        # Point-wise MLPs\n",
    "        x = F.relu(self.bn1(self.conv1(x)))\n",
    "        x = F.relu(self.bn2(self.conv2(x)))\n",
    "        x = self.bn3(self.conv3(x))\n",
    "        \n",
    "        # Max pooling\n",
    "        x = torch.max(x, 2, keepdim=True)[0]\n",
    "        x = x.view(-1, 256)\n",
    "        \n",
    "        # Fully connected layers\n",
    "        x = F.relu(self.bn4(self.linear1(x)))\n",
    "        x = self.linear2(x)\n",
    "        \n",
    "        return x\n",
    "\n",
    "# Example usage\n",
    "batch_size = 32\n",
    "n_points = 12  # This can vary\n",
    "input_dim = 2\n",
    "output_dim = 256\n",
    "\n",
    "encoder = PointCloudEncoder(input_dim=input_dim, output_dim=output_dim)\n",
    "\n",
    "# Generate random point cloud data\n",
    "point_cloud = torch.randn(batch_size, n_points, input_dim)\n",
    "print(point_cloud.shape)\n",
    "# Encode the point cloud\n",
    "encoded = encoder(point_cloud)\n",
    "print(encoded.shape)  # Should be (batch_size, output_dim)"
   ]
  },
  {
   "cell_type": "code",
   "execution_count": 113,
   "id": "9c8df953",
   "metadata": {},
   "outputs": [
    {
     "name": "stdout",
     "output_type": "stream",
     "text": [
      "blank maze\n",
      "gamma: 0.1\n"
     ]
    },
    {
     "data": {
      "text/plain": [
       "([array([3.5, 8.5])], [array([3.5, 8.5])])"
      ]
     },
     "execution_count": 113,
     "metadata": {},
     "output_type": "execute_result"
    }
   ],
   "source": [
    "maze = get_maze('blank')\n",
    "\n",
    "ds = SetDataset(maze, 1000, num_splits=4)\n",
    "\n",
    "ds[0]"
   ]
  },
  {
   "cell_type": "code",
   "execution_count": 117,
   "id": "f68d341b",
   "metadata": {
    "scrolled": true
   },
   "outputs": [
    {
     "name": "stdout",
     "output_type": "stream",
     "text": [
      "[array([6.51748532, 2.50117886]), array([6.03871404, 2.35703289]), array([5.56067249, 2.50358077]), array([5.0619634 , 2.46767484]), array([4.57035556, 2.55889836]), array([4.07670684, 2.63833982]), array([3.64179774, 2.39165363])]\n",
      "---------\n",
      "[array([8.5, 3.5]), array([8.32343346, 3.03221345]), array([8.45999208, 2.55122307]), array([7.96097744, 2.58259807]), array([7.50751388, 2.37195429]), array([7.00887073, 2.40876473])]\n"
     ]
    },
    {
     "data": {
      "image/png": "[encoded data removed]",
      "text/plain": [
       "<Figure size 1000x800 with 2 Axes>"
      ]
     },
     "metadata": {},
     "output_type": "display_data"
    }
   ],
   "source": [
    "import numpy as np\n",
    "import matplotlib.pyplot as plt\n",
    "\n",
    "def plot_paths_and_maze(maze, paths):\n",
    "    # Extract x and y coordinates from the paths\n",
    "    x1, y1 = zip(*paths[0])\n",
    "    x2, y2 = zip(*paths[1])\n",
    "\n",
    "    # Create a figure and axis\n",
    "    fig, ax = plt.subplots(figsize=(10, 8))\n",
    "\n",
    "    # Plot the maze\n",
    "    maze_image = ax.imshow(maze, cmap='binary', origin='lower', extent=[0, maze.shape[1], 0, maze.shape[0]])\n",
    "\n",
    "    # Plot the paths\n",
    "    ax.plot(x1, y1, 'r-', linewidth=2, label='Path 1')\n",
    "    ax.plot(x2, y2, 'b-', linewidth=2, label='Path 2')\n",
    "\n",
    "    # Set labels and title\n",
    "    ax.set_xlabel('X')\n",
    "    ax.set_ylabel('Y')\n",
    "    ax.set_title('Paths and Maze')\n",
    "\n",
    "    # Add legend\n",
    "    ax.legend()\n",
    "\n",
    "    # Show the plot\n",
    "    plt.colorbar(maze_image, label='Maze (0: Empty, 1: Wall)')\n",
    "    plt.grid(True)\n",
    "    plt.show()\n",
    "\n",
    "paths = ds[np.random.randint(0, 100)]\n",
    "print(paths[0])\n",
    "print('---------')\n",
    "print(paths[1])\n",
    "plot_paths_and_maze(maze, paths)"
   ]
  },
  {
   "cell_type": "code",
   "execution_count": 83,
   "id": "67a9357a",
   "metadata": {},
   "outputs": [
    {
     "data": {
      "text/plain": [
       "([7.4638674278350345,\n",
       "  7.5598638170644294,\n",
       "  7.524388512776824,\n",
       "  7.031784649267966,\n",
       "  6.534814322114223,\n",
       "  6.737251654064183,\n",
       "  6.580255999731444,\n",
       "  6.502078453754112,\n",
       "  6.416796019200024,\n",
       "  6.4741794369140235,\n",
       "  6.60815072751397,\n",
       "  6.116627841984628,\n",
       "  5.653586755719245,\n",
       "  5.442442770924813,\n",
       "  5.25538190976897,\n",
       "  5.3705313972171895,\n",
       "  5.576891139709331,\n",
       "  5.079216485680033,\n",
       "  4.580665315033116,\n",
       "  4.0811599112232,\n",
       "  3.6248620385059205],\n",
       " [7.4638674278350345,\n",
       "  7.5598638170644294,\n",
       "  7.524388512776824,\n",
       "  7.031784649267966,\n",
       "  6.534814322114223])"
      ]
     },
     "execution_count": 83,
     "metadata": {},
     "output_type": "execute_result"
    }
   ],
   "source": [
    "ds[0]"
   ]
  },
  {
   "cell_type": "code",
   "execution_count": 22,
   "id": "26c1ec34",
   "metadata": {},
   "outputs": [
    {
     "name": "stdout",
     "output_type": "stream",
     "text": [
      "[array([1, 2]), array([], dtype=int64), array([2, 3, 4, 5]), array([], dtype=int64), array([], dtype=int64), array([4, 5, 6]), array([7]), array([], dtype=int64), array([], dtype=int64), array([1, 2]), array([], dtype=int64), array([2]), array([3, 4, 5, 6, 7]), array([], dtype=int64), array([2, 3, 4]), array([5, 6, 7]), array([], dtype=int64), array([], dtype=int64), array([], dtype=int64), array([1, 2, 3, 4, 5, 6, 7]), array([], dtype=int64), array([1, 2, 3, 4, 5]), array([6]), array([], dtype=int64), array([], dtype=int64), array([1, 2, 3, 4, 5, 6]), array([], dtype=int64), array([1, 2, 3, 4]), array([], dtype=int64), array([1, 2]), array([], dtype=int64), array([], dtype=int64), array([1, 2, 3, 4]), array([], dtype=int64), array([2, 3]), array([4, 5, 6, 7]), array([], dtype=int64), array([5, 6]), array([7]), array([], dtype=int64), array([5, 6]), array([], dtype=int64), array([3, 4, 5, 6, 7]), array([], dtype=int64), array([1, 2, 3, 4, 5, 6]), array([7]), array([], dtype=int64), array([], dtype=int64), array([], dtype=int64), array([3, 4, 5, 6, 7]), array([], dtype=int64), array([5]), array([], dtype=int64), array([2, 3]), array([4, 5]), array([], dtype=int64), array([2, 3]), array([4, 5, 6]), array([], dtype=int64), array([3]), array([], dtype=int64), array([3]), array([], dtype=int64), array([3, 4, 5, 6]), array([], dtype=int64), array([], dtype=int64), array([4]), array([], dtype=int64), array([], dtype=int64), array([3, 4, 5, 6]), array([7]), array([], dtype=int64), array([2, 3, 4]), array([5, 6]), array([7]), array([], dtype=int64), array([], dtype=int64), array([1, 2, 3, 4, 5, 6]), array([], dtype=int64), array([2]), array([3, 4, 5, 6, 7]), array([], dtype=int64), array([3, 4, 5, 6]), array([], dtype=int64), array([2, 3, 4]), array([], dtype=int64), array([], dtype=int64), array([2, 3, 4]), array([], dtype=int64), array([5, 6]), array([], dtype=int64), array([], dtype=int64), array([1, 2, 3, 4, 5, 6]), array([], dtype=int64), array([3, 4]), array([], dtype=int64), array([], dtype=int64), array([], dtype=int64), array([1, 2, 3]), array([4, 5]), array([6, 7, 8])]\n"
     ]
    },
    {
     "data": {
      "text/plain": [
       "array([], dtype=int64)"
      ]
     },
     "execution_count": 22,
     "metadata": {},
     "output_type": "execute_result"
    }
   ],
   "source": [
    "arr = np.array([1,2,3,4,5,6,7,8])\n",
    "\n",
    "split_arr = np.split(arr, np.random.randint(0, len(arr), size=100))\n",
    "print(split_arr)\n",
    "split_arr[1]"
   ]
  },
  {
   "cell_type": "code",
   "execution_count": 28,
   "id": "acee1543",
   "metadata": {},
   "outputs": [
    {
     "data": {
      "text/plain": [
       "False"
      ]
     },
     "execution_count": 28,
     "metadata": {},
     "output_type": "execute_result"
    }
   ],
   "source": [
    "np.array([1,2]).shape[0] == 0"
   ]
  },
  {
   "cell_type": "code",
   "execution_count": 119,
   "id": "18783b54",
   "metadata": {},
   "outputs": [
    {
     "name": "stdout",
     "output_type": "stream",
     "text": [
      "Epoch [1/10], Batch [10/40], Loss: 6.8387\n",
      "Epoch [1/10], Batch [20/40], Loss: 6.4517\n",
      "Epoch [1/10], Batch [30/40], Loss: 6.2696\n",
      "Epoch [1/10], Batch [40/40], Loss: 3.4603\n",
      "Epoch [1/10], Average Loss: 6.4178\n",
      "Epoch [2/10], Batch [10/40], Loss: 5.4550\n",
      "Epoch [2/10], Batch [20/40], Loss: 5.3014\n",
      "Epoch [2/10], Batch [30/40], Loss: 4.8492\n",
      "Epoch [2/10], Batch [40/40], Loss: 2.0466\n",
      "Epoch [2/10], Average Loss: 5.1548\n",
      "Epoch [3/10], Batch [10/40], Loss: 4.4907\n",
      "Epoch [3/10], Batch [20/40], Loss: 4.0099\n",
      "Epoch [3/10], Batch [30/40], Loss: 3.8374\n",
      "Epoch [3/10], Batch [40/40], Loss: 1.0120\n",
      "Epoch [3/10], Average Loss: 4.0478\n",
      "Epoch [4/10], Batch [10/40], Loss: 3.4929\n",
      "Epoch [4/10], Batch [20/40], Loss: 3.2651\n",
      "Epoch [4/10], Batch [30/40], Loss: 2.9943\n",
      "Epoch [4/10], Batch [40/40], Loss: 0.8107\n",
      "Epoch [4/10], Average Loss: 3.1029\n",
      "Epoch [5/10], Batch [10/40], Loss: 2.4051\n",
      "Epoch [5/10], Batch [20/40], Loss: 2.4578\n",
      "Epoch [5/10], Batch [30/40], Loss: 2.1044\n",
      "Epoch [5/10], Batch [40/40], Loss: 0.3815\n",
      "Epoch [5/10], Average Loss: 2.3052\n",
      "Epoch [6/10], Batch [10/40], Loss: 1.8424\n",
      "Epoch [6/10], Batch [20/40], Loss: 1.6822\n",
      "Epoch [6/10], Batch [30/40], Loss: 1.5992\n",
      "Epoch [6/10], Batch [40/40], Loss: 0.1725\n",
      "Epoch [6/10], Average Loss: 1.6806\n",
      "Epoch [7/10], Batch [10/40], Loss: 1.2905\n",
      "Epoch [7/10], Batch [20/40], Loss: 1.1612\n",
      "Epoch [7/10], Batch [30/40], Loss: 1.1785\n",
      "Epoch [7/10], Batch [40/40], Loss: 0.1267\n",
      "Epoch [7/10], Average Loss: 1.2223\n",
      "Epoch [8/10], Batch [10/40], Loss: 0.9861\n",
      "Epoch [8/10], Batch [20/40], Loss: 0.9683\n",
      "Epoch [8/10], Batch [30/40], Loss: 0.8860\n",
      "Epoch [8/10], Batch [40/40], Loss: 0.0727\n",
      "Epoch [8/10], Average Loss: 0.8919\n",
      "Epoch [9/10], Batch [10/40], Loss: 0.7044\n",
      "Epoch [9/10], Batch [20/40], Loss: 0.6586\n",
      "Epoch [9/10], Batch [30/40], Loss: 0.6240\n",
      "Epoch [9/10], Batch [40/40], Loss: 0.0304\n",
      "Epoch [9/10], Average Loss: 0.6626\n",
      "Epoch [10/10], Batch [10/40], Loss: 0.5619\n",
      "Epoch [10/10], Batch [20/40], Loss: 0.5071\n",
      "Epoch [10/10], Batch [30/40], Loss: 0.4757\n",
      "Epoch [10/10], Batch [40/40], Loss: 0.0317\n",
      "Epoch [10/10], Average Loss: 0.5055\n",
      "Training finished!\n"
     ]
    }
   ],
   "source": [
    "import torch\n",
    "import torch.nn as nn\n",
    "import torch.nn.functional as F\n",
    "from torch.utils.data import Dataset, DataLoader\n",
    "import numpy as np\n",
    "\n",
    "# Dataset\n",
    "class FakeContrastiveDataset(Dataset):\n",
    "    def __init__(self, num_samples, feature1_dim, feature2_dim):\n",
    "        self.num_samples = num_samples\n",
    "        self.feature1_dim = feature1_dim\n",
    "        self.feature2_dim = feature2_dim\n",
    "        \n",
    "        self.base_data = np.random.randn(num_samples, max(feature1_dim, feature2_dim))\n",
    "        self.transform1 = np.random.randn(max(feature1_dim, feature2_dim), feature1_dim)\n",
    "        self.transform2 = np.random.randn(max(feature1_dim, feature2_dim), feature2_dim)\n",
    "\n",
    "    def __len__(self):\n",
    "        return self.num_samples\n",
    "\n",
    "    def __getitem__(self, idx):\n",
    "        base = self.base_data[idx]\n",
    "        feature1 = np.dot(base, self.transform1)\n",
    "        feature2 = np.dot(base, self.transform2)\n",
    "        return torch.FloatTensor(feature1), torch.FloatTensor(feature2)\n",
    "\n",
    "# Network\n",
    "class ContrastiveNetwork(nn.Module):\n",
    "    def __init__(self, feature1_dim, feature2_dim, embed_dim):\n",
    "        super().__init__()\n",
    "        self.feature1_proj = nn.Linear(feature1_dim, embed_dim)\n",
    "        self.feature2_proj = nn.Linear(feature2_dim, embed_dim)\n",
    "        self.logit_scale = nn.Parameter(torch.ones([]) * np.log(1 / 0.07))\n",
    "\n",
    "    def forward(self, feature1, feature2):\n",
    "        feature1_embed = F.normalize(self.feature1_proj(feature1), dim=-1)\n",
    "        feature2_embed = F.normalize(self.feature2_proj(feature2), dim=-1)\n",
    "        return feature1_embed, feature2_embed, self.logit_scale.exp()\n",
    "\n",
    "# Loss Function\n",
    "\n",
    "\n",
    "# Hyperparameters\n",
    "num_samples = 10000\n",
    "feature1_dim = 128\n",
    "feature2_dim = 256\n",
    "embed_dim = 64\n",
    "batch_size = 256\n",
    "num_epochs = 10\n",
    "learning_rate = 1e-4\n",
    "\n",
    "# Create dataset and dataloader\n",
    "dataset = FakeContrastiveDataset(num_samples, feature1_dim, feature2_dim)\n",
    "dataloader = DataLoader(dataset, batch_size=batch_size, shuffle=True)\n",
    "\n",
    "# Initialize network\n",
    "network = ContrastiveNetwork(feature1_dim, feature2_dim, embed_dim)\n",
    "\n",
    "# Optimizer\n",
    "optimizer = torch.optim.Adam(network.parameters(), lr=learning_rate)\n",
    "\n",
    "# Training loop\n",
    "device = torch.device(\"cuda\" if torch.cuda.is_available() else \"cpu\")\n",
    "network.to(device)\n",
    "\n",
    "for epoch in range(num_epochs):\n",
    "    total_loss = 0\n",
    "    for batch, (feature1, feature2) in enumerate(dataloader):\n",
    "        feature1, feature2 = feature1.to(device), feature2.to(device)\n",
    "        \n",
    "        # Forward pass\n",
    "        feature1_embed, feature2_embed, logit_scale = network(feature1, feature2)\n",
    "        \n",
    "        # Compute loss\n",
    "        loss = contrastive_loss(feature1_embed, feature2_embed, logit_scale)\n",
    "        \n",
    "        # Backward and optimize\n",
    "        optimizer.zero_grad()\n",
    "        loss.backward()\n",
    "        optimizer.step()\n",
    "\n",
    "        total_loss += loss.item()\n",
    "        \n",
    "        if (batch + 1) % 10 == 0:\n",
    "            print(f\"Epoch [{epoch+1}/{num_epochs}], Batch [{batch+1}/{len(dataloader)}], Loss: {loss.item():.4f}\")\n",
    "    \n",
    "    avg_loss = total_loss / len(dataloader)\n",
    "    print(f\"Epoch [{epoch+1}/{num_epochs}], Average Loss: {avg_loss:.4f}\")\n",
    "\n",
    "print(\"Training finished!\")"
   ]
  },
  {
   "cell_type": "code",
   "execution_count": null,
   "id": "8ccd9ffb",
   "metadata": {},
   "outputs": [],
   "source": []
  }
 ],
 "metadata": {
  "kernelspec": {
   "display_name": "hypll [~/.conda/envs/hypll/]",
   "language": "python",
   "name": "conda_hypll"
  },
  "language_info": {
   "codemirror_mode": {
    "name": "ipython",
    "version": 3
   },
   "file_extension": ".py",
   "mimetype": "text/x-python",
   "name": "python",
   "nbconvert_exporter": "python",
   "pygments_lexer": "ipython3",
   "version": "3.10.14"
  }
 },
 "nbformat": 4,
 "nbformat_minor": 5
}
