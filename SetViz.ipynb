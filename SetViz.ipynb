{
 "cells": [
  {
   "cell_type": "code",
   "execution_count": 15,
   "id": "70d57f5e",
   "metadata": {},
   "outputs": [],
   "source": [
    "import numpy as np\n",
    "import matplotlib.pyplot as plt\n",
    "import torch\n",
    "import torch.nn as nn\n",
    "import torch.nn.functional as F\n",
    "import torch.optim as optim\n",
    "from torch.utils.data import DataLoader, Dataset\n",
    "import hypll\n",
    "from hypll.manifolds.poincare_ball import Curvature, PoincareBall\n",
    "from hypll.optim import RiemannianAdam\n",
    "import hypll.nn as hnn\n",
    "from hypll.tensors import TangentTensor\n",
    "from matplotlib.animation import FuncAnimation\n",
    "import argparse\n",
    "import yaml\n",
    "import math\n",
    "from pyramid import create_pyramid\n",
    "from continuous_maze import bfs, get_trajectories, gen_traj, plot_traj, ContinuousGridEnvironment, TrajectoryDataset, LabelDataset\n",
    "from hyperbolic_networks import HyperbolicMLP, hyperbolic_infoNCE_loss, manifold_map\n",
    "from networks import StateActionEncoder, StateEncoder, infoNCE_loss\n",
    "import os\n",
    "import time\n",
    "from train_streets import get_maze\n",
    "import wandb\n",
    "\n",
    "from train_set import PointCloudEncoder, SetDataset"
   ]
  },
  {
   "cell_type": "code",
   "execution_count": 16,
   "id": "6f7c40e0",
   "metadata": {},
   "outputs": [],
   "source": [
    "device = \"cuda\" if torch.cuda.is_available() else \"cpu\""
   ]
  },
  {
   "cell_type": "code",
   "execution_count": 107,
   "id": "deb9fbee",
   "metadata": {},
   "outputs": [
    {
     "data": {
      "text/plain": [
       "<All keys matched successfully>"
      ]
     },
     "execution_count": 107,
     "metadata": {},
     "output_type": "execute_result"
    }
   ],
   "source": [
    "embedding_dim = 2\n",
    "\n",
    "encoder1 = PointCloudEncoder(input_dim=2, output_dim=embedding_dim).to(device)\n",
    "encoder2 = PointCloudEncoder(input_dim=2, output_dim=embedding_dim).to(device)\n",
    "\n",
    "e1_path = f'models/set_experiment1_hyperbolic_False_epochs_512_temp_0.1_trajectories_10000_order__maze_blocker_embeddingdim_{embedding_dim}_gamma_0.1_batch_64_hyp_layers_2_encoder1_epoch_512.pth'\n",
    "e2_path = f'models/set_experiment1_hyperbolic_False_epochs_512_temp_0.1_trajectories_10000_order__maze_blocker_embeddingdim_{embedding_dim}_gamma_0.1_batch_64_hyp_layers_2_encoder2_epoch_512.pth'\n",
    "\n",
    "encoder1.load_state_dict(torch.load(e1_path, map_location=torch.device(device)))\n",
    "encoder2.load_state_dict(torch.load(e2_path, map_location=torch.device(device)))"
   ]
  },
  {
   "cell_type": "code",
   "execution_count": 108,
   "id": "47b89d76",
   "metadata": {},
   "outputs": [
    {
     "name": "stdout",
     "output_type": "stream",
     "text": [
      "blank maze\n",
      "gamma: 0.1\n"
     ]
    }
   ],
   "source": [
    "maze = get_maze('blank')\n",
    "dataset = SetDataset(maze, 1000, num_splits=4)"
   ]
  },
  {
   "cell_type": "code",
   "execution_count": 112,
   "id": "885175c1",
   "metadata": {},
   "outputs": [
    {
     "data": {
      "text/plain": [
       "array([[7.5       , 7.5       ],\n",
       "       [7.00060513, 7.52459202],\n",
       "       [6.50633126, 7.60004624],\n",
       "       [6.00913036, 7.54721384],\n",
       "       [5.54197706, 7.3689786 ],\n",
       "       [5.04372484, 7.41074844],\n",
       "       [4.54730341, 7.47046246],\n",
       "       [4.5388974 , 6.97053313],\n",
       "       [4.08217563, 6.76705039],\n",
       "       [3.65975416, 6.49954319],\n",
       "       [3.16436677, 6.56730257],\n",
       "       [2.66943549, 6.63831686],\n",
       "       [2.52227847, 6.16046248],\n",
       "       [2.62533405, 5.67119818],\n",
       "       [2.66185816, 5.17253398],\n",
       "       [2.61895609, 4.67437797],\n",
       "       [2.65918274, 4.17599878],\n",
       "       [2.62455881, 3.67719904],\n",
       "       [2.13945682, 3.55605424],\n",
       "       [1.64006344, 3.58067656],\n",
       "       [0.        , 0.        ],\n",
       "       [0.        , 0.        ],\n",
       "       [0.        , 0.        ],\n",
       "       [0.        , 0.        ],\n",
       "       [0.        , 0.        ],\n",
       "       [0.        , 0.        ],\n",
       "       [0.        , 0.        ],\n",
       "       [0.        , 0.        ],\n",
       "       [0.        , 0.        ],\n",
       "       [0.        , 0.        ],\n",
       "       [0.        , 0.        ],\n",
       "       [0.        , 0.        ],\n",
       "       [0.        , 0.        ],\n",
       "       [0.        , 0.        ],\n",
       "       [0.        , 0.        ],\n",
       "       [0.        , 0.        ],\n",
       "       [0.        , 0.        ],\n",
       "       [0.        , 0.        ],\n",
       "       [0.        , 0.        ],\n",
       "       [0.        , 0.        ],\n",
       "       [0.        , 0.        ],\n",
       "       [0.        , 0.        ],\n",
       "       [0.        , 0.        ],\n",
       "       [0.        , 0.        ],\n",
       "       [0.        , 0.        ],\n",
       "       [0.        , 0.        ],\n",
       "       [0.        , 0.        ],\n",
       "       [0.        , 0.        ],\n",
       "       [0.        , 0.        ],\n",
       "       [0.        , 0.        ],\n",
       "       [0.        , 0.        ],\n",
       "       [0.        , 0.        ],\n",
       "       [0.        , 0.        ],\n",
       "       [0.        , 0.        ],\n",
       "       [0.        , 0.        ],\n",
       "       [0.        , 0.        ],\n",
       "       [0.        , 0.        ],\n",
       "       [0.        , 0.        ],\n",
       "       [0.        , 0.        ],\n",
       "       [0.        , 0.        ],\n",
       "       [0.        , 0.        ],\n",
       "       [0.        , 0.        ],\n",
       "       [0.        , 0.        ],\n",
       "       [0.        , 0.        ],\n",
       "       [0.        , 0.        ],\n",
       "       [0.        , 0.        ],\n",
       "       [0.        , 0.        ],\n",
       "       [0.        , 0.        ],\n",
       "       [0.        , 0.        ],\n",
       "       [0.        , 0.        ],\n",
       "       [0.        , 0.        ],\n",
       "       [0.        , 0.        ],\n",
       "       [0.        , 0.        ],\n",
       "       [0.        , 0.        ],\n",
       "       [0.        , 0.        ],\n",
       "       [0.        , 0.        ],\n",
       "       [0.        , 0.        ],\n",
       "       [0.        , 0.        ],\n",
       "       [0.        , 0.        ],\n",
       "       [0.        , 0.        ],\n",
       "       [0.        , 0.        ],\n",
       "       [0.        , 0.        ],\n",
       "       [0.        , 0.        ],\n",
       "       [0.        , 0.        ],\n",
       "       [0.        , 0.        ],\n",
       "       [0.        , 0.        ],\n",
       "       [0.        , 0.        ],\n",
       "       [0.        , 0.        ],\n",
       "       [0.        , 0.        ],\n",
       "       [0.        , 0.        ],\n",
       "       [0.        , 0.        ],\n",
       "       [0.        , 0.        ],\n",
       "       [0.        , 0.        ],\n",
       "       [0.        , 0.        ],\n",
       "       [0.        , 0.        ],\n",
       "       [0.        , 0.        ],\n",
       "       [0.        , 0.        ],\n",
       "       [0.        , 0.        ],\n",
       "       [0.        , 0.        ],\n",
       "       [0.        , 0.        ]])"
      ]
     },
     "execution_count": 112,
     "metadata": {},
     "output_type": "execute_result"
    }
   ],
   "source": [
    "val = dataset[1][0]\n",
    "\n",
    "val"
   ]
  },
  {
   "cell_type": "code",
   "execution_count": 113,
   "id": "70e8dc67",
   "metadata": {},
   "outputs": [
    {
     "name": "stdout",
     "output_type": "stream",
     "text": [
      "torch.Size([20, 2])\n"
     ]
    },
    {
     "data": {
      "image/png": "[encoded data removed]",
      "text/plain": [
       "<Figure size 1000x800 with 2 Axes>"
      ]
     },
     "metadata": {},
     "output_type": "display_data"
    }
   ],
   "source": [
    "import matplotlib.pyplot as plt\n",
    "import matplotlib.colors as mcolors\n",
    "\n",
    "l = []\n",
    "for i in range(20):\n",
    "    blank = np.zeros((100, 2))\n",
    "    blank[:i,:] = val[:i,:]\n",
    "    l.append(np.array(blank))\n",
    "s = torch.as_tensor(np.stack(l), dtype=torch.float32, device=device)\n",
    "s_enc = encoder1(s)\n",
    "print(s_enc.shape)\n",
    "\n",
    "with torch.no_grad():\n",
    "    fig, ax = plt.subplots(figsize=(10, 8))\n",
    "    \n",
    "    # Create a colormap\n",
    "    cmap = plt.get_cmap('viridis')  # You can change 'viridis' to any other colormap\n",
    "    \n",
    "    # Normalize color values\n",
    "    norm = mcolors.Normalize(vmin=0, vmax=len(s_enc)-1)\n",
    "    \n",
    "    # Plot each point with a color from the colormap\n",
    "    for i in range(len(s_enc)):\n",
    "        scatter = ax.scatter(x=s_enc[i,0], y=s_enc[i,1], \n",
    "                    color=cmap(norm(i)), \n",
    "                    label=f'i={i}')\n",
    "    \n",
    "    # Add a colorbar\n",
    "    sm = plt.cm.ScalarMappable(cmap=cmap, norm=norm)\n",
    "    sm.set_array([])\n",
    "    plt.colorbar(sm, ax=ax, label='i value')\n",
    "    \n",
    "    ax.set_title('Encoded Representations')\n",
    "    ax.set_xlabel('Dimension 1')\n",
    "    ax.set_ylabel('Dimension 2')\n",
    "    ax.legend()\n",
    "    plt.show()"
   ]
  },
  {
   "cell_type": "code",
   "execution_count": 118,
   "id": "53fcc867",
   "metadata": {},
   "outputs": [
    {
     "name": "stdout",
     "output_type": "stream",
     "text": [
      "torch.Size([25, 2])\n"
     ]
    },
    {
     "data": {
      "image/png": "[encoded data removed]",
      "text/plain": [
       "<Figure size 640x480 with 1 Axes>"
      ]
     },
     "metadata": {},
     "output_type": "display_data"
    }
   ],
   "source": [
    "pairs = [dataset[i] for i in range(25)]\n",
    "\n",
    "\n",
    "s1 = torch.as_tensor(np.stack([x[0] for x in pairs]), dtype=torch.float32, device=device)\n",
    "s2 = torch.as_tensor(np.stack([x[1] for x in pairs]), dtype=torch.float32, device=device)\n",
    "\n",
    "s1_enc = encoder1(s1)\n",
    "s2_enc = encoder2(s2)\n",
    "\n",
    "print(s1_enc.shape)\n",
    "with torch.no_grad():\n",
    "    plt.imshow(s1_enc @ s2_enc.T)"
   ]
  },
  {
   "cell_type": "code",
   "execution_count": 117,
   "id": "6003a0de",
   "metadata": {},
   "outputs": [
    {
     "ename": "IndexError",
     "evalue": "index 2 is out of bounds for dimension 1 with size 2",
     "output_type": "error",
     "traceback": [
      "\u001b[0;31m---------------------------------------------------------------------------\u001b[0m",
      "\u001b[0;31mIndexError\u001b[0m                                Traceback (most recent call last)",
      "Cell \u001b[0;32mIn[117], line 2\u001b[0m\n\u001b[1;32m      1\u001b[0m \u001b[38;5;28;01mwith\u001b[39;00m torch\u001b[38;5;241m.\u001b[39mno_grad():\n\u001b[0;32m----> 2\u001b[0m     plt\u001b[38;5;241m.\u001b[39mscatter(x\u001b[38;5;241m=\u001b[39ms1_enc[:,\u001b[38;5;241m0\u001b[39m], y\u001b[38;5;241m=\u001b[39m\u001b[43ms1_enc\u001b[49m\u001b[43m[\u001b[49m\u001b[43m:\u001b[49m\u001b[43m,\u001b[49m\u001b[38;5;241;43m2\u001b[39;49m\u001b[43m]\u001b[49m, color\u001b[38;5;241m=\u001b[39m\u001b[38;5;124m'\u001b[39m\u001b[38;5;124mb\u001b[39m\u001b[38;5;124m'\u001b[39m)\n\u001b[1;32m      3\u001b[0m     plt\u001b[38;5;241m.\u001b[39mscatter(x\u001b[38;5;241m=\u001b[39ms2_enc[:,\u001b[38;5;241m0\u001b[39m], y\u001b[38;5;241m=\u001b[39ms2_enc[:,\u001b[38;5;241m2\u001b[39m], color\u001b[38;5;241m=\u001b[39m\u001b[38;5;124m'\u001b[39m\u001b[38;5;124mr\u001b[39m\u001b[38;5;124m'\u001b[39m)\n",
      "\u001b[0;31mIndexError\u001b[0m: index 2 is out of bounds for dimension 1 with size 2"
     ]
    }
   ],
   "source": [
    "with torch.no_grad():\n",
    "    plt.scatter(x=s1_enc[:,0], y=s1_enc[:,2], color='b')\n",
    "    plt.scatter(x=s2_enc[:,0], y=s2_enc[:,2], color='r')"
   ]
  },
  {
   "cell_type": "code",
   "execution_count": null,
   "id": "c228b5e6",
   "metadata": {},
   "outputs": [],
   "source": []
  },
  {
   "cell_type": "code",
   "execution_count": 13,
   "id": "090bcb0f",
   "metadata": {},
   "outputs": [
    {
     "data": {
      "text/plain": [
       "tensor([[-0.0262,  0.8154],\n",
       "        [-0.1696, -0.0137],\n",
       "        [ 0.3480,  0.4876],\n",
       "        [-0.4686,  0.6231],\n",
       "        [ 0.1991,  0.4834],\n",
       "        [ 0.5872,  0.7385],\n",
       "        [-0.5628,  0.6523],\n",
       "        [-0.7598,  0.6564],\n",
       "        [ 0.3324,  0.2025],\n",
       "        [ 0.2163,  0.4928],\n",
       "        [-0.0509,  0.2650],\n",
       "        [ 0.1035,  0.7987],\n",
       "        [ 0.4027,  0.2370],\n",
       "        [ 0.0202,  0.3206],\n",
       "        [-0.2562,  0.3960],\n",
       "        [ 0.8254,  0.3031],\n",
       "        [ 0.1960,  0.6969],\n",
       "        [-0.0206,  0.6168],\n",
       "        [-0.1103,  0.6017],\n",
       "        [ 0.4367,  0.2401],\n",
       "        [ 0.2432, -0.0178],\n",
       "        [-0.9128,  0.9124],\n",
       "        [-0.0984,  0.4631],\n",
       "        [-0.8311,  0.1111],\n",
       "        [-0.0317,  0.3493],\n",
       "        [ 0.6118,  0.3960],\n",
       "        [ 0.6240,  0.4243],\n",
       "        [-0.3492,  0.4453],\n",
       "        [ 0.5097,  0.5498],\n",
       "        [-0.0696,  0.7381],\n",
       "        [ 0.2113,  0.0781],\n",
       "        [-0.0168,  0.2130]], grad_fn=<AddmmBackward0>)"
      ]
     },
     "execution_count": 13,
     "metadata": {},
     "output_type": "execute_result"
    }
   ],
   "source": [
    "a = torch.randn(size=(32, 100, 2))\n",
    "\n",
    "encoder1(a)"
   ]
  },
  {
   "cell_type": "code",
   "execution_count": null,
   "id": "39c529e9",
   "metadata": {},
   "outputs": [],
   "source": []
  }
 ],
 "metadata": {
  "kernelspec": {
   "display_name": "hypll [~/.conda/envs/hypll/]",
   "language": "python",
   "name": "conda_hypll"
  },
  "language_info": {
   "codemirror_mode": {
    "name": "ipython",
    "version": 3
   },
   "file_extension": ".py",
   "mimetype": "text/x-python",
   "name": "python",
   "nbconvert_exporter": "python",
   "pygments_lexer": "ipython3",
   "version": "3.10.14"
  }
 },
 "nbformat": 4,
 "nbformat_minor": 5
}
