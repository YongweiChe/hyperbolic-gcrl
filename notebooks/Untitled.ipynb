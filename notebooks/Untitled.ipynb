{
 "cells": [
  {
   "cell_type": "code",
   "execution_count": 6,
   "id": "3c644ecb",
   "metadata": {},
   "outputs": [],
   "source": [
    "import sys\n",
    "\n",
    "sys.path.append('../')\n",
    "\n",
    "import numpy as np\n",
    "import graphviz\n",
    "from IPython.display import display\n",
    "from environments.tree.tree import NaryTreeEnvironment\n",
    "from environments.tree.data import TrajectoryDataset, SetDataset\n",
    "import numpy as np\n",
    "import matplotlib.pyplot as plt\n",
    "from matplotlib.animation import FuncAnimation\n",
    "from matplotlib.colors import LinearSegmentedColormap\n",
    "from matplotlib.collections import LineCollection\n",
    "\n",
    "import torch\n",
    "import torch.nn as nn\n",
    "import torch.nn.functional as F\n",
    "import torch.optim as optim\n",
    "from torch.utils.data import DataLoader, Dataset\n",
    "import hypll\n",
    "from hypll.manifolds.poincare_ball import Curvature, PoincareBall\n",
    "from hypll.optim import RiemannianAdam\n",
    "import hypll.nn as hnn\n",
    "from hypll.tensors import TangentTensor\n",
    "\n",
    "import argparse\n",
    "from environments.tree.data import GeneralTrajectoryDataset, get_maze_trajectories\n",
    "from environments.tree.discrete_maze import GridMazeEnvironment\n",
    "from networks.hypnets import HyperbolicMLP, manifold_map\n",
    "from networks.nets import SmallEncoder\n",
    "from utils import get_maze, load_model, load_tree_model\n",
    "import os\n",
    "import json\n"
   ]
  },
  {
   "cell_type": "code",
   "execution_count": 7,
   "id": "de76567d",
   "metadata": {},
   "outputs": [
    {
     "name": "stdout",
     "output_type": "stream",
     "text": [
      "blank maze\n",
      "i: 5, 3\n"
     ]
    },
    {
     "data": {
      "text/plain": [
       "[0,\n",
       " 1,\n",
       " 2,\n",
       " 3,\n",
       " 4,\n",
       " 5,\n",
       " 6,\n",
       " 7,\n",
       " 8,\n",
       " 9,\n",
       " 10,\n",
       " 11,\n",
       " 12,\n",
       " 13,\n",
       " 14,\n",
       " 15,\n",
       " 16,\n",
       " 17,\n",
       " 18,\n",
       " 19,\n",
       " 20,\n",
       " 21,\n",
       " 22,\n",
       " 23,\n",
       " 24,\n",
       " 25,\n",
       " 26,\n",
       " 27,\n",
       " 28,\n",
       " 29,\n",
       " 30,\n",
       " 31,\n",
       " 32,\n",
       " 33,\n",
       " 34,\n",
       " 35,\n",
       " 36,\n",
       " 37,\n",
       " 38,\n",
       " 39,\n",
       " 40,\n",
       " 41,\n",
       " 42,\n",
       " 43,\n",
       " 44,\n",
       " 45,\n",
       " 46,\n",
       " 47,\n",
       " 48,\n",
       " 49,\n",
       " 50,\n",
       " 51,\n",
       " 52,\n",
       " 53,\n",
       " 54,\n",
       " 55,\n",
       " 56,\n",
       " 57,\n",
       " 58,\n",
       " 59,\n",
       " 60,\n",
       " 61,\n",
       " 62,\n",
       " 63,\n",
       " 64,\n",
       " 65,\n",
       " 66,\n",
       " 67,\n",
       " 68,\n",
       " 69,\n",
       " 70,\n",
       " 71,\n",
       " 72,\n",
       " 73,\n",
       " 74,\n",
       " 75,\n",
       " 76,\n",
       " 77,\n",
       " 78,\n",
       " 79,\n",
       " 80,\n",
       " 81,\n",
       " 82,\n",
       " 83,\n",
       " 84,\n",
       " 85,\n",
       " 86,\n",
       " 87,\n",
       " 88,\n",
       " 89,\n",
       " 90,\n",
       " 91,\n",
       " 92,\n",
       " 93,\n",
       " 94,\n",
       " 95,\n",
       " 96,\n",
       " 97,\n",
       " 98,\n",
       " 99]"
      ]
     },
     "execution_count": 7,
     "metadata": {},
     "output_type": "execute_result"
    }
   ],
   "source": [
    "name = 'blank'\n",
    "maze = get_maze(name)\n",
    "maze = GridMazeEnvironment(maze)\n",
    "\n",
    "maze.get_unflattened_valid_indices()"
   ]
  },
  {
   "cell_type": "code",
   "execution_count": 8,
   "id": "39030814",
   "metadata": {},
   "outputs": [
    {
     "name": "stdout",
     "output_type": "stream",
     "text": [
      "gamma: 0.1\n"
     ]
    }
   ],
   "source": [
    "trajectories = get_maze_trajectories(maze, 100)\n",
    "num_actions = 5\n",
    "dataset = GeneralTrajectoryDataset(\n",
    "    trajectories=trajectories,\n",
    "    valid_indices=maze.get_unflattened_valid_indices(),\n",
    "    num_negatives=10,\n",
    "    gamma=0.1\n",
    ")"
   ]
  },
  {
   "cell_type": "code",
   "execution_count": 11,
   "id": "89c5910e",
   "metadata": {},
   "outputs": [
    {
     "data": {
      "text/plain": [
       "(array([67,  3]),\n",
       " array([77]),\n",
       " array([[78],\n",
       "        [22],\n",
       "        [37],\n",
       "        [17],\n",
       "        [68],\n",
       "        [93],\n",
       "        [72],\n",
       "        [92],\n",
       "        [41],\n",
       "        [24]]))"
      ]
     },
     "execution_count": 11,
     "metadata": {},
     "output_type": "execute_result"
    }
   ],
   "source": [
    "dataset[2]"
   ]
  },
  {
   "cell_type": "code",
   "execution_count": 4,
   "id": "fe8f1fda",
   "metadata": {},
   "outputs": [
    {
     "data": {
      "text/plain": [
       "(0, 0)"
      ]
     },
     "execution_count": 4,
     "metadata": {},
     "output_type": "execute_result"
    }
   ],
   "source": [
    "tuple(np.array([0, 0]))"
   ]
  },
  {
   "cell_type": "code",
   "execution_count": 2,
   "id": "a89ed524",
   "metadata": {},
   "outputs": [
    {
     "name": "stdout",
     "output_type": "stream",
     "text": [
      "gamma: 0.1\n"
     ]
    }
   ],
   "source": [
    "dataset = SetDataset(\n",
    "        depth=7,\n",
    "        branching_factor=2,\n",
    "        num_trajectories=100,\n",
    "        num_negatives=11,\n",
    "        gamma=0.1\n",
    "    )"
   ]
  },
  {
   "cell_type": "code",
   "execution_count": 18,
   "id": "c258d214",
   "metadata": {},
   "outputs": [
    {
     "name": "stdout",
     "output_type": "stream",
     "text": [
      "[(68, 0), (33, 0), (16, 0), (7, 0), (3, 2), (8, 1), (17, 1), (35, 3)]\n",
      "size1: 1, size2: 1\n",
      "(1, 1) (1, 1)\n"
     ]
    }
   ],
   "source": [
    "a, b = dataset[3]\n",
    "\n",
    "print(a.shape, b.shape)"
   ]
  },
  {
   "cell_type": "code",
   "execution_count": null,
   "id": "982a475b",
   "metadata": {},
   "outputs": [],
   "source": []
  },
  {
   "cell_type": "code",
   "execution_count": null,
   "id": "f61a3a8f",
   "metadata": {},
   "outputs": [],
   "source": []
  }
 ],
 "metadata": {
  "kernelspec": {
   "display_name": "hypll [~/.conda/envs/hypll/]",
   "language": "python",
   "name": "conda_hypll"
  },
  "language_info": {
   "codemirror_mode": {
    "name": "ipython",
    "version": 3
   },
   "file_extension": ".py",
   "mimetype": "text/x-python",
   "name": "python",
   "nbconvert_exporter": "python",
   "pygments_lexer": "ipython3",
   "version": "3.10.14"
  }
 },
 "nbformat": 4,
 "nbformat_minor": 5
}
